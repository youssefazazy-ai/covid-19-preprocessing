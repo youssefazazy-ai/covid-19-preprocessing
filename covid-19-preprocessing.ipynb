{
 "cells": [
  {
   "cell_type": "code",
   "execution_count": 1,
   "id": "7f9aec37",
   "metadata": {
    "_cell_guid": "b1076dfc-b9ad-4769-8c92-a6c4dae69d19",
    "_uuid": "8f2839f25d086af736a60e9eeb907d3b93b6e0e5",
    "execution": {
     "iopub.execute_input": "2024-11-26T19:31:53.383506Z",
     "iopub.status.busy": "2024-11-26T19:31:53.383157Z",
     "iopub.status.idle": "2024-11-26T19:31:54.320649Z",
     "shell.execute_reply": "2024-11-26T19:31:54.319594Z"
    },
    "papermill": {
     "duration": 0.944317,
     "end_time": "2024-11-26T19:31:54.322820",
     "exception": false,
     "start_time": "2024-11-26T19:31:53.378503",
     "status": "completed"
    },
    "tags": []
   },
   "outputs": [
    {
     "name": "stdout",
     "output_type": "stream",
     "text": [
      "/kaggle/input/corona-virus-report/covid_19_clean_complete.csv\n",
      "/kaggle/input/corona-virus-report/country_wise_latest.csv\n",
      "/kaggle/input/corona-virus-report/day_wise.csv\n",
      "/kaggle/input/corona-virus-report/usa_county_wise.csv\n",
      "/kaggle/input/corona-virus-report/worldometer_data.csv\n",
      "/kaggle/input/corona-virus-report/full_grouped.csv\n"
     ]
    }
   ],
   "source": [
    "# This Python 3 environment comes with many helpful analytics libraries installed\n",
    "# It is defined by the kaggle/python Docker image: https://github.com/kaggle/docker-python\n",
    "# For example, here's several helpful packages to load\n",
    "\n",
    "import numpy as np # linear algebra\n",
    "import pandas as pd # data processing, CSV file I/O (e.g. pd.read_csv)\n",
    "\n",
    "# Input data files are available in the read-only \"../input/\" directory\n",
    "# For example, running this (by clicking run or pressing Shift+Enter) will list all files under the input directory\n",
    "\n",
    "import os\n",
    "for dirname, _, filenames in os.walk('/kaggle/input'):\n",
    "    for filename in filenames:\n",
    "        print(os.path.join(dirname, filename))\n",
    "\n",
    "# You can write up to 20GB to the current directory (/kaggle/working/) that gets preserved as output when you create a version using \"Save & Run All\" \n",
    "# You can also write temporary files to /kaggle/temp/, but they won't be saved outside of the current session"
   ]
  },
  {
   "cell_type": "code",
   "execution_count": 2,
   "id": "bbb0fab4",
   "metadata": {
    "execution": {
     "iopub.execute_input": "2024-11-26T19:31:54.330111Z",
     "iopub.status.busy": "2024-11-26T19:31:54.329537Z",
     "iopub.status.idle": "2024-11-26T19:31:54.763413Z",
     "shell.execute_reply": "2024-11-26T19:31:54.762399Z"
    },
    "papermill": {
     "duration": 0.440065,
     "end_time": "2024-11-26T19:31:54.765859",
     "exception": false,
     "start_time": "2024-11-26T19:31:54.325794",
     "status": "completed"
    },
    "tags": []
   },
   "outputs": [],
   "source": [
    "import pandas as pd\n",
    "import logging\n",
    "\n",
    "# Set up logging\n",
    "logging.basicConfig(level=logging.INFO, format='%(asctime)s - %(message)s')\n",
    "\n",
    "# Load the dataset\n",
    "df = pd.read_csv(\"/kaggle/input/corona-virus-report/covid_19_clean_complete.csv\")\n",
    "logging.info(f\"Loaded covid_19_clean_complete with shape {df.shape}\")\n",
    "\n",
    "# Standardize column names\n",
    "df.columns = df.columns.str.strip().str.lower().str.replace(' ', '_')\n",
    "\n",
    "# Convert 'date' to datetime\n",
    "df['date'] = pd.to_datetime(df['date'])\n",
    "\n",
    "# Handle missing values\n",
    "df['province/state'] = df['province/state'].fillna('Unknown')\n",
    "\n",
    "# Create derived columns\n",
    "df['active'] = df['confirmed'] - df['deaths'] - df['recovered']\n",
    "\n",
    "# Validation\n",
    "logging.info(f\"Shape after preprocessing: {df.shape}\")\n",
    "logging.info(f\"Missing values: {df.isnull().sum().sum()}\")\n",
    "\n",
    "# Save the cleaned dataset\n",
    "df.to_csv(\"cleaned_covid_19_clean_complete.csv\", index=False)\n",
    "logging.info(\"Preprocessing complete. cleaned_covid_19_clean_complete.csv saved.\")\n"
   ]
  },
  {
   "cell_type": "code",
   "execution_count": 3,
   "id": "dc1f6ea5",
   "metadata": {
    "execution": {
     "iopub.execute_input": "2024-11-26T19:31:54.772832Z",
     "iopub.status.busy": "2024-11-26T19:31:54.772446Z",
     "iopub.status.idle": "2024-11-26T19:31:54.791842Z",
     "shell.execute_reply": "2024-11-26T19:31:54.791019Z"
    },
    "papermill": {
     "duration": 0.025553,
     "end_time": "2024-11-26T19:31:54.794220",
     "exception": false,
     "start_time": "2024-11-26T19:31:54.768667",
     "status": "completed"
    },
    "tags": []
   },
   "outputs": [],
   "source": [
    "import pandas as pd\n",
    "import logging\n",
    "\n",
    "# Set up logging\n",
    "logging.basicConfig(level=logging.INFO, format='%(asctime)s - %(message)s')\n",
    "\n",
    "# Load the dataset\n",
    "df = pd.read_csv(\"/kaggle/input/corona-virus-report/day_wise.csv\")\n",
    "logging.info(f\"Loaded day_wise with shape {df.shape}\")\n",
    "\n",
    "# Standardize column names\n",
    "df.columns = df.columns.str.strip().str.lower().str.replace(' ', '_')\n",
    "\n",
    "# Convert 'date' to datetime\n",
    "df['date'] = pd.to_datetime(df['date'])\n",
    "\n",
    "# Add derived columns\n",
    "df['case_fatality_rate'] = (df['deaths'] / df['confirmed'] * 100).fillna(0)\n",
    "\n",
    "# Validation\n",
    "logging.info(f\"Shape after preprocessing: {df.shape}\")\n",
    "logging.info(f\"Missing values: {df.isnull().sum().sum()}\")\n",
    "\n",
    "# Save the cleaned dataset\n",
    "df.to_csv(\"cleaned_day_wise.csv\", index=False)\n",
    "logging.info(\"Preprocessing complete. cleaned_day_wise.csv saved.\")\n"
   ]
  },
  {
   "cell_type": "code",
   "execution_count": 4,
   "id": "4511ff8b",
   "metadata": {
    "execution": {
     "iopub.execute_input": "2024-11-26T19:31:54.801400Z",
     "iopub.status.busy": "2024-11-26T19:31:54.801056Z",
     "iopub.status.idle": "2024-11-26T19:31:54.817000Z",
     "shell.execute_reply": "2024-11-26T19:31:54.815979Z"
    },
    "papermill": {
     "duration": 0.022148,
     "end_time": "2024-11-26T19:31:54.819287",
     "exception": false,
     "start_time": "2024-11-26T19:31:54.797139",
     "status": "completed"
    },
    "tags": []
   },
   "outputs": [],
   "source": [
    "import pandas as pd\n",
    "import logging\n",
    "\n",
    "# Set up logging\n",
    "logging.basicConfig(level=logging.INFO, format='%(asctime)s - %(message)s')\n",
    "\n",
    "# Load the dataset\n",
    "df = pd.read_csv(\"/kaggle/input/corona-virus-report/country_wise_latest.csv\")\n",
    "logging.info(f\"Loaded country_wise_latest with shape {df.shape}\")\n",
    "\n",
    "# Standardize column names\n",
    "df.columns = df.columns.str.strip().str.lower().str.replace(' ', '_')\n",
    "\n",
    "# Replace missing percentage values with 0\n",
    "percentage_columns = [col for col in df.columns if '/100_' in col]\n",
    "for col in percentage_columns:\n",
    "    df[col] = df[col].fillna(0)\n",
    "\n",
    "# Validation\n",
    "logging.info(f\"Shape after preprocessing: {df.shape}\")\n",
    "logging.info(f\"Missing values: {df.isnull().sum().sum()}\")\n",
    "\n",
    "# Save the cleaned dataset\n",
    "df.to_csv(\"cleaned_country_wise_latest.csv\", index=False)\n",
    "logging.info(\"Preprocessing complete. cleaned_country_wise_latest.csv saved.\")\n"
   ]
  },
  {
   "cell_type": "code",
   "execution_count": 5,
   "id": "21e12f88",
   "metadata": {
    "execution": {
     "iopub.execute_input": "2024-11-26T19:31:54.826366Z",
     "iopub.status.busy": "2024-11-26T19:31:54.825623Z",
     "iopub.status.idle": "2024-11-26T19:31:55.046602Z",
     "shell.execute_reply": "2024-11-26T19:31:55.045564Z"
    },
    "papermill": {
     "duration": 0.226959,
     "end_time": "2024-11-26T19:31:55.049018",
     "exception": false,
     "start_time": "2024-11-26T19:31:54.822059",
     "status": "completed"
    },
    "tags": []
   },
   "outputs": [],
   "source": [
    "import pandas as pd\n",
    "import logging\n",
    "\n",
    "# Set up logging\n",
    "logging.basicConfig(level=logging.INFO, format='%(asctime)s - %(message)s')\n",
    "\n",
    "# Load the dataset\n",
    "df = pd.read_csv(\"/kaggle/input/corona-virus-report/full_grouped.csv\")\n",
    "logging.info(f\"Loaded full_grouped with shape {df.shape}\")\n",
    "\n",
    "# Standardize column names\n",
    "df.columns = df.columns.str.strip().str.lower().str.replace(' ', '_')\n",
    "\n",
    "# Convert 'date' to datetime\n",
    "df['date'] = pd.to_datetime(df['date'])\n",
    "\n",
    "# Create derived columns\n",
    "df['active'] = df['confirmed'] - df['deaths'] - df['recovered']\n",
    "\n",
    "# Validation\n",
    "logging.info(f\"Shape after preprocessing: {df.shape}\")\n",
    "logging.info(f\"Missing values: {df.isnull().sum().sum()}\")\n",
    "\n",
    "# Save the cleaned dataset\n",
    "df.to_csv(\"cleaned_full_grouped.csv\", index=False)\n",
    "logging.info(\"Preprocessing complete. cleaned_full_grouped.csv saved.\")\n"
   ]
  },
  {
   "cell_type": "code",
   "execution_count": 6,
   "id": "b08f77f1",
   "metadata": {
    "execution": {
     "iopub.execute_input": "2024-11-26T19:31:55.055848Z",
     "iopub.status.busy": "2024-11-26T19:31:55.055454Z",
     "iopub.status.idle": "2024-11-26T19:32:01.762338Z",
     "shell.execute_reply": "2024-11-26T19:32:01.761178Z"
    },
    "papermill": {
     "duration": 6.71312,
     "end_time": "2024-11-26T19:32:01.764913",
     "exception": false,
     "start_time": "2024-11-26T19:31:55.051793",
     "status": "completed"
    },
    "tags": []
   },
   "outputs": [],
   "source": [
    "import pandas as pd\n",
    "import logging\n",
    "\n",
    "# Set up logging\n",
    "logging.basicConfig(level=logging.INFO, format='%(asctime)s - %(message)s')\n",
    "\n",
    "# Load the dataset\n",
    "df = pd.read_csv(\"/kaggle/input/corona-virus-report/usa_county_wise.csv\")\n",
    "logging.info(f\"Loaded usa_county_wise with shape {df.shape}\")\n",
    "\n",
    "# Standardize column names\n",
    "df.columns = df.columns.str.strip().str.lower().str.replace(' ', '_')\n",
    "\n",
    "# Handle missing values\n",
    "df['fips'] = df['fips'].fillna('Unknown')\n",
    "df['admin2'] = df['admin2'].fillna('Unknown')\n",
    "\n",
    "# Validation\n",
    "logging.info(f\"Shape after preprocessing: {df.shape}\")\n",
    "logging.info(f\"Missing values: {df.isnull().sum().sum()}\")\n",
    "\n",
    "# Save the cleaned dataset\n",
    "df.to_csv(\"cleaned_usa_county_wise.csv\", index=False)\n",
    "logging.info(\"Preprocessing complete. cleaned_usa_county_wise.csv saved.\")\n"
   ]
  },
  {
   "cell_type": "code",
   "execution_count": 7,
   "id": "b2846a66",
   "metadata": {
    "execution": {
     "iopub.execute_input": "2024-11-26T19:32:01.771992Z",
     "iopub.status.busy": "2024-11-26T19:32:01.771507Z",
     "iopub.status.idle": "2024-11-26T19:32:01.816032Z",
     "shell.execute_reply": "2024-11-26T19:32:01.814766Z"
    },
    "papermill": {
     "duration": 0.050909,
     "end_time": "2024-11-26T19:32:01.818644",
     "exception": false,
     "start_time": "2024-11-26T19:32:01.767735",
     "status": "completed"
    },
    "tags": []
   },
   "outputs": [],
   "source": [
    "import pandas as pd\n",
    "import logging\n",
    "\n",
    "# Set up logging\n",
    "logging.basicConfig(level=logging.INFO, format='%(asctime)s - %(message)s')\n",
    "\n",
    "# Load the dataset\n",
    "df = pd.read_csv(\"/kaggle/input/corona-virus-report/worldometer_data.csv\")\n",
    "logging.info(f\"Loaded worldometer_data with shape {df.shape}\")\n",
    "\n",
    "# Standardize column names\n",
    "df.columns = df.columns.str.strip().str.lower().str.replace(' ', '_')\n",
    "\n",
    "# Fill missing values with 0 or \"Unknown\"\n",
    "df = df.fillna({'continent': 'Unknown', 'population': 0, 'newcases': 0, 'newdeaths': 0, 'newrecovered': 0})\n",
    "\n",
    "# Validation\n",
    "logging.info(f\"Shape after preprocessing: {df.shape}\")\n",
    "logging.info(f\"Missing values: {df.isnull().sum().sum()}\")\n",
    "\n",
    "# Save the cleaned dataset\n",
    "df.to_csv(\"cleaned_worldometer_data.csv\", index=False)\n",
    "logging.info(\"Preprocessing complete. cleaned_worldometer_data.csv saved.\")\n"
   ]
  },
  {
   "cell_type": "code",
   "execution_count": null,
   "id": "c9a1b917",
   "metadata": {
    "papermill": {
     "duration": 0.002452,
     "end_time": "2024-11-26T19:32:01.823924",
     "exception": false,
     "start_time": "2024-11-26T19:32:01.821472",
     "status": "completed"
    },
    "tags": []
   },
   "outputs": [],
   "source": []
  }
 ],
 "metadata": {
  "kaggle": {
   "accelerator": "none",
   "dataSources": [
    {
     "datasetId": 494766,
     "sourceId": 1402868,
     "sourceType": "datasetVersion"
    }
   ],
   "dockerImageVersionId": 30786,
   "isGpuEnabled": false,
   "isInternetEnabled": false,
   "language": "python",
   "sourceType": "notebook"
  },
  "kernelspec": {
   "display_name": "Python 3",
   "language": "python",
   "name": "python3"
  },
  "language_info": {
   "codemirror_mode": {
    "name": "ipython",
    "version": 3
   },
   "file_extension": ".py",
   "mimetype": "text/x-python",
   "name": "python",
   "nbconvert_exporter": "python",
   "pygments_lexer": "ipython3",
   "version": "3.10.14"
  },
  "papermill": {
   "default_parameters": {},
   "duration": 11.736575,
   "end_time": "2024-11-26T19:32:02.347655",
   "environment_variables": {},
   "exception": null,
   "input_path": "__notebook__.ipynb",
   "output_path": "__notebook__.ipynb",
   "parameters": {},
   "start_time": "2024-11-26T19:31:50.611080",
   "version": "2.6.0"
  }
 },
 "nbformat": 4,
 "nbformat_minor": 5
}
